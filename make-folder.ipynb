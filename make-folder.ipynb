{
 "cells": [
  {
   "cell_type": "code",
   "execution_count": 60,
   "metadata": {},
   "outputs": [],
   "source": [
    "import os\n",
    "\n",
    "list_sh=['h01','h02','s01','s02','s03']\n",
    "\n",
    "address= 'input your local address'\n",
    "for i in list_sh:\n",
    "    folder_name=i\n",
    "    folder_path=os.path.join(address,folder_name)\n",
    "    if not os.path.exists(folder_path):\n",
    "        os.mkdir(folder_path)"
   ]
  }
 ],
 "metadata": {
  "kernelspec": {
   "display_name": "Python 3",
   "language": "python",
   "name": "python3"
  },
  "language_info": {
   "codemirror_mode": {
    "name": "ipython",
    "version": 3
   },
   "file_extension": ".py",
   "mimetype": "text/x-python",
   "name": "python",
   "nbconvert_exporter": "python",
   "pygments_lexer": "ipython3",
   "version": "3.11.0"
  },
  "orig_nbformat": 4
 },
 "nbformat": 4,
 "nbformat_minor": 2
}
